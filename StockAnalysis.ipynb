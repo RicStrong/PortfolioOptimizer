{
  "nbformat": 4,
  "nbformat_minor": 0,
  "metadata": {
    "colab": {
      "name": "StockAnalysis.ipynb",
      "provenance": [],
      "collapsed_sections": []
    },
    "kernelspec": {
      "name": "python3",
      "display_name": "Python 3"
    }
  },
  "cells": [
    {
      "cell_type": "markdown",
      "metadata": {
        "id": "q8VVHxEHJixv",
        "colab_type": "text"
      },
      "source": [
        "Credit where it's due \n",
        "https://medium.com/@randerson112358/python-for-finance-portfolio-optimization-66882498847\n",
        "\n",
        "\n",
        "Set your assets to whatever you'd like them to be in the second block of code, check article for details"
      ]
    },
    {
      "cell_type": "code",
      "metadata": {
        "id": "XfsuZIBGICyA",
        "colab_type": "code",
        "outputId": "6db8bcb2-eed8-4395-dbd3-992a36fffafb",
        "colab": {
          "base_uri": "https://localhost:8080/",
          "height": 72
        }
      },
      "source": [
        "# Import the python libraries\n",
        "from pandas_datareader import data as web\n",
        "import pandas as pd\n",
        "import numpy as np\n",
        "from datetime import datetime\n",
        "import matplotlib.pyplot as plt\n",
        "plt.style.use('fivethirtyeight')"
      ],
      "execution_count": 1,
      "outputs": [
        {
          "output_type": "stream",
          "text": [
            "/usr/local/lib/python3.6/dist-packages/pandas_datareader/compat/__init__.py:7: FutureWarning: pandas.util.testing is deprecated. Use the functions in the public API at pandas.testing instead.\n",
            "  from pandas.util.testing import assert_frame_equal\n"
          ],
          "name": "stderr"
        }
      ]
    },
    {
      "cell_type": "code",
      "metadata": {
        "id": "76jczNZGIHGf",
        "colab_type": "code",
        "colab": {}
      },
      "source": [
        "assets =  [\"HICOX\", \"DBSCX\", \"TMF\", \"SHOP\", \"IOFIX\", \"MSFT\", \"AMZN\",\"VSCFX\", \"NVDA\", \"AMD\", \"TSLA\", \"LMT\", \"BA\", \"RTN\", \"PGHY\", \"LMBS\"]\n",
        "#Replace these with the name of stocks you'd want to target\n",
        "#TMF"
      ],
      "execution_count": 0,
      "outputs": []
    },
    {
      "cell_type": "code",
      "metadata": {
        "id": "P6GV3bdjIKoS",
        "colab_type": "code",
        "outputId": "a584b1d0-4b90-486a-bc8b-1b6e7cce03f2",
        "colab": {
          "base_uri": "https://localhost:8080/",
          "height": 52
        }
      },
      "source": [
        "# Assign weights to the stocks. Weights must = 1 so 0.2 for each\n",
        "weights = np.array([.0625,.0625,.0625,.0625,.0625,.0625,.0625,.0625,.0625,.0625,.0625,.0625,.0625,.0625,.0625,.0625,])\n",
        "weights"
      ],
      "execution_count": 3,
      "outputs": [
        {
          "output_type": "execute_result",
          "data": {
            "text/plain": [
              "array([0.0625, 0.0625, 0.0625, 0.0625, 0.0625, 0.0625, 0.0625, 0.0625,\n",
              "       0.0625, 0.0625, 0.0625, 0.0625, 0.0625, 0.0625, 0.0625, 0.0625])"
            ]
          },
          "metadata": {
            "tags": []
          },
          "execution_count": 3
        }
      ]
    },
    {
      "cell_type": "code",
      "metadata": {
        "id": "cic63FJxILUE",
        "colab_type": "code",
        "colab": {}
      },
      "source": [
        "#Get the stock starting date\n",
        "stockStartDate = '2013-01-01'"
      ],
      "execution_count": 0,
      "outputs": []
    },
    {
      "cell_type": "code",
      "metadata": {
        "id": "0yEabOpeIOGf",
        "colab_type": "code",
        "colab": {}
      },
      "source": [
        "# Get the stocks ending date aka todays date and format it in the form YYYY-MM-DD\n",
        "today = datetime.today().strftime('%Y-%m-%d')"
      ],
      "execution_count": 0,
      "outputs": []
    },
    {
      "cell_type": "code",
      "metadata": {
        "id": "8uAczdL0IRhr",
        "colab_type": "code",
        "colab": {}
      },
      "source": [
        "#Create a dataframe to store the adjusted close price of the stocks\n",
        "df = pd.DataFrame()"
      ],
      "execution_count": 0,
      "outputs": []
    },
    {
      "cell_type": "code",
      "metadata": {
        "id": "l_RlBGPCITqo",
        "colab_type": "code",
        "colab": {}
      },
      "source": [
        "#Store the adjusted close price of stock into the data frame\n",
        "for stock in assets:\n",
        "   df[stock] = web.DataReader(stock,data_source='yahoo',start=stockStartDate , end=today)['Adj Close']"
      ],
      "execution_count": 0,
      "outputs": []
    },
    {
      "cell_type": "code",
      "metadata": {
        "id": "uMa6NgZrIUK-",
        "colab_type": "code",
        "outputId": "3907dc66-7a96-4b46-cc7e-ac4ffc324a25",
        "colab": {
          "base_uri": "https://localhost:8080/",
          "height": 623
        }
      },
      "source": [
        "df"
      ],
      "execution_count": 9,
      "outputs": [
        {
          "output_type": "execute_result",
          "data": {
            "text/html": [
              "<div>\n",
              "<style scoped>\n",
              "    .dataframe tbody tr th:only-of-type {\n",
              "        vertical-align: middle;\n",
              "    }\n",
              "\n",
              "    .dataframe tbody tr th {\n",
              "        vertical-align: top;\n",
              "    }\n",
              "\n",
              "    .dataframe thead th {\n",
              "        text-align: right;\n",
              "    }\n",
              "</style>\n",
              "<table border=\"1\" class=\"dataframe\">\n",
              "  <thead>\n",
              "    <tr style=\"text-align: right;\">\n",
              "      <th></th>\n",
              "      <th>HICOX</th>\n",
              "      <th>DBSCX</th>\n",
              "      <th>TMF</th>\n",
              "      <th>SHOP</th>\n",
              "      <th>IOFIX</th>\n",
              "      <th>MSFT</th>\n",
              "      <th>AMZN</th>\n",
              "      <th>VSCFX</th>\n",
              "      <th>NVDA</th>\n",
              "      <th>AMD</th>\n",
              "      <th>TSLA</th>\n",
              "      <th>LMT</th>\n",
              "      <th>BA</th>\n",
              "      <th>RTN</th>\n",
              "      <th>PGHY</th>\n",
              "      <th>LMBS</th>\n",
              "    </tr>\n",
              "    <tr>\n",
              "      <th>Date</th>\n",
              "      <th></th>\n",
              "      <th></th>\n",
              "      <th></th>\n",
              "      <th></th>\n",
              "      <th></th>\n",
              "      <th></th>\n",
              "      <th></th>\n",
              "      <th></th>\n",
              "      <th></th>\n",
              "      <th></th>\n",
              "      <th></th>\n",
              "      <th></th>\n",
              "      <th></th>\n",
              "      <th></th>\n",
              "      <th></th>\n",
              "      <th></th>\n",
              "    </tr>\n",
              "  </thead>\n",
              "  <tbody>\n",
              "    <tr>\n",
              "      <th>2013-01-02</th>\n",
              "      <td>6.595164</td>\n",
              "      <td>NaN</td>\n",
              "      <td>16.627954</td>\n",
              "      <td>NaN</td>\n",
              "      <td>NaN</td>\n",
              "      <td>23.362539</td>\n",
              "      <td>257.309998</td>\n",
              "      <td>NaN</td>\n",
              "      <td>11.782754</td>\n",
              "      <td>2.530000</td>\n",
              "      <td>35.360001</td>\n",
              "      <td>74.625763</td>\n",
              "      <td>64.088791</td>\n",
              "      <td>50.044380</td>\n",
              "      <td>NaN</td>\n",
              "      <td>NaN</td>\n",
              "    </tr>\n",
              "    <tr>\n",
              "      <th>2013-01-03</th>\n",
              "      <td>6.595164</td>\n",
              "      <td>NaN</td>\n",
              "      <td>15.953198</td>\n",
              "      <td>NaN</td>\n",
              "      <td>NaN</td>\n",
              "      <td>23.049566</td>\n",
              "      <td>258.480011</td>\n",
              "      <td>NaN</td>\n",
              "      <td>11.792020</td>\n",
              "      <td>2.490000</td>\n",
              "      <td>34.770000</td>\n",
              "      <td>74.849792</td>\n",
              "      <td>64.421425</td>\n",
              "      <td>50.061455</td>\n",
              "      <td>NaN</td>\n",
              "      <td>NaN</td>\n",
              "    </tr>\n",
              "    <tr>\n",
              "      <th>2013-01-04</th>\n",
              "      <td>6.595164</td>\n",
              "      <td>NaN</td>\n",
              "      <td>16.095381</td>\n",
              "      <td>NaN</td>\n",
              "      <td>NaN</td>\n",
              "      <td>22.618179</td>\n",
              "      <td>259.149994</td>\n",
              "      <td>NaN</td>\n",
              "      <td>12.181071</td>\n",
              "      <td>2.590000</td>\n",
              "      <td>34.400002</td>\n",
              "      <td>75.129837</td>\n",
              "      <td>64.604370</td>\n",
              "      <td>50.377316</td>\n",
              "      <td>NaN</td>\n",
              "      <td>NaN</td>\n",
              "    </tr>\n",
              "    <tr>\n",
              "      <th>2013-01-07</th>\n",
              "      <td>6.595164</td>\n",
              "      <td>NaN</td>\n",
              "      <td>16.148394</td>\n",
              "      <td>NaN</td>\n",
              "      <td>NaN</td>\n",
              "      <td>22.575893</td>\n",
              "      <td>268.459991</td>\n",
              "      <td>NaN</td>\n",
              "      <td>11.829074</td>\n",
              "      <td>2.670000</td>\n",
              "      <td>34.340000</td>\n",
              "      <td>75.385841</td>\n",
              "      <td>63.307129</td>\n",
              "      <td>49.813881</td>\n",
              "      <td>NaN</td>\n",
              "      <td>NaN</td>\n",
              "    </tr>\n",
              "    <tr>\n",
              "      <th>2013-01-08</th>\n",
              "      <td>6.602310</td>\n",
              "      <td>NaN</td>\n",
              "      <td>16.449629</td>\n",
              "      <td>NaN</td>\n",
              "      <td>NaN</td>\n",
              "      <td>22.457466</td>\n",
              "      <td>266.380005</td>\n",
              "      <td>NaN</td>\n",
              "      <td>11.569703</td>\n",
              "      <td>2.670000</td>\n",
              "      <td>33.680000</td>\n",
              "      <td>74.377739</td>\n",
              "      <td>61.643993</td>\n",
              "      <td>49.293129</td>\n",
              "      <td>NaN</td>\n",
              "      <td>NaN</td>\n",
              "    </tr>\n",
              "    <tr>\n",
              "      <th>...</th>\n",
              "      <td>...</td>\n",
              "      <td>...</td>\n",
              "      <td>...</td>\n",
              "      <td>...</td>\n",
              "      <td>...</td>\n",
              "      <td>...</td>\n",
              "      <td>...</td>\n",
              "      <td>...</td>\n",
              "      <td>...</td>\n",
              "      <td>...</td>\n",
              "      <td>...</td>\n",
              "      <td>...</td>\n",
              "      <td>...</td>\n",
              "      <td>...</td>\n",
              "      <td>...</td>\n",
              "      <td>...</td>\n",
              "    </tr>\n",
              "    <tr>\n",
              "      <th>2020-05-07</th>\n",
              "      <td>8.860000</td>\n",
              "      <td>7.89</td>\n",
              "      <td>42.709999</td>\n",
              "      <td>722.760010</td>\n",
              "      <td>8.90</td>\n",
              "      <td>183.600006</td>\n",
              "      <td>2367.610107</td>\n",
              "      <td>8.87</td>\n",
              "      <td>304.869995</td>\n",
              "      <td>51.950001</td>\n",
              "      <td>780.039978</td>\n",
              "      <td>376.540009</td>\n",
              "      <td>128.649994</td>\n",
              "      <td>NaN</td>\n",
              "      <td>20.639999</td>\n",
              "      <td>51.700001</td>\n",
              "    </tr>\n",
              "    <tr>\n",
              "      <th>2020-05-08</th>\n",
              "      <td>8.870000</td>\n",
              "      <td>7.91</td>\n",
              "      <td>41.090000</td>\n",
              "      <td>708.969971</td>\n",
              "      <td>8.95</td>\n",
              "      <td>184.679993</td>\n",
              "      <td>2379.610107</td>\n",
              "      <td>8.88</td>\n",
              "      <td>312.500000</td>\n",
              "      <td>53.189999</td>\n",
              "      <td>819.419983</td>\n",
              "      <td>378.399994</td>\n",
              "      <td>133.440002</td>\n",
              "      <td>NaN</td>\n",
              "      <td>20.660000</td>\n",
              "      <td>51.709999</td>\n",
              "    </tr>\n",
              "    <tr>\n",
              "      <th>2020-05-11</th>\n",
              "      <td>8.870000</td>\n",
              "      <td>7.91</td>\n",
              "      <td>40.070000</td>\n",
              "      <td>750.340027</td>\n",
              "      <td>8.96</td>\n",
              "      <td>186.740005</td>\n",
              "      <td>2409.000000</td>\n",
              "      <td>8.89</td>\n",
              "      <td>322.619995</td>\n",
              "      <td>55.740002</td>\n",
              "      <td>811.289978</td>\n",
              "      <td>376.559998</td>\n",
              "      <td>128.910004</td>\n",
              "      <td>NaN</td>\n",
              "      <td>20.309999</td>\n",
              "      <td>51.650002</td>\n",
              "    </tr>\n",
              "    <tr>\n",
              "      <th>2020-05-12</th>\n",
              "      <td>8.870000</td>\n",
              "      <td>7.92</td>\n",
              "      <td>41.290001</td>\n",
              "      <td>742.280029</td>\n",
              "      <td>8.99</td>\n",
              "      <td>182.509995</td>\n",
              "      <td>2356.949951</td>\n",
              "      <td>8.90</td>\n",
              "      <td>312.100006</td>\n",
              "      <td>53.759998</td>\n",
              "      <td>809.409973</td>\n",
              "      <td>371.109985</td>\n",
              "      <td>125.220001</td>\n",
              "      <td>NaN</td>\n",
              "      <td>20.620001</td>\n",
              "      <td>51.630001</td>\n",
              "    </tr>\n",
              "    <tr>\n",
              "      <th>2020-05-13</th>\n",
              "      <td>8.880000</td>\n",
              "      <td>7.93</td>\n",
              "      <td>42.099998</td>\n",
              "      <td>754.380005</td>\n",
              "      <td>8.99</td>\n",
              "      <td>179.750000</td>\n",
              "      <td>2367.919922</td>\n",
              "      <td>8.91</td>\n",
              "      <td>311.200012</td>\n",
              "      <td>52.180000</td>\n",
              "      <td>790.960022</td>\n",
              "      <td>364.179993</td>\n",
              "      <td>121.500000</td>\n",
              "      <td>NaN</td>\n",
              "      <td>20.370001</td>\n",
              "      <td>51.689999</td>\n",
              "    </tr>\n",
              "  </tbody>\n",
              "</table>\n",
              "<p>1854 rows × 16 columns</p>\n",
              "</div>"
            ],
            "text/plain": [
              "               HICOX  DBSCX        TMF  ...        RTN       PGHY       LMBS\n",
              "Date                                    ...                                 \n",
              "2013-01-02  6.595164    NaN  16.627954  ...  50.044380        NaN        NaN\n",
              "2013-01-03  6.595164    NaN  15.953198  ...  50.061455        NaN        NaN\n",
              "2013-01-04  6.595164    NaN  16.095381  ...  50.377316        NaN        NaN\n",
              "2013-01-07  6.595164    NaN  16.148394  ...  49.813881        NaN        NaN\n",
              "2013-01-08  6.602310    NaN  16.449629  ...  49.293129        NaN        NaN\n",
              "...              ...    ...        ...  ...        ...        ...        ...\n",
              "2020-05-07  8.860000   7.89  42.709999  ...        NaN  20.639999  51.700001\n",
              "2020-05-08  8.870000   7.91  41.090000  ...        NaN  20.660000  51.709999\n",
              "2020-05-11  8.870000   7.91  40.070000  ...        NaN  20.309999  51.650002\n",
              "2020-05-12  8.870000   7.92  41.290001  ...        NaN  20.620001  51.630001\n",
              "2020-05-13  8.880000   7.93  42.099998  ...        NaN  20.370001  51.689999\n",
              "\n",
              "[1854 rows x 16 columns]"
            ]
          },
          "metadata": {
            "tags": []
          },
          "execution_count": 9
        }
      ]
    },
    {
      "cell_type": "code",
      "metadata": {
        "id": "uGeukaqzIXZU",
        "colab_type": "code",
        "colab": {}
      },
      "source": [
        "# Create the title 'Portfolio Adj Close Price History\n",
        "title = 'Portfolio Adj. Close Price History    '"
      ],
      "execution_count": 0,
      "outputs": []
    },
    {
      "cell_type": "code",
      "metadata": {
        "id": "Xi9Nc0ZPIZv_",
        "colab_type": "code",
        "colab": {}
      },
      "source": [
        "#Get the stocks\n",
        "my_stocks = df"
      ],
      "execution_count": 0,
      "outputs": []
    },
    {
      "cell_type": "code",
      "metadata": {
        "id": "k_XxffedIbFj",
        "colab_type": "code",
        "outputId": "131134bd-52d2-4b61-c7ef-855b654487d5",
        "colab": {
          "base_uri": "https://localhost:8080/",
          "height": 52
        }
      },
      "source": [
        "#Create and plot the graph\n",
        "plt.figure(figsize=(12.2,4.5)) #width = 12.2in, height = 4.5"
      ],
      "execution_count": 12,
      "outputs": [
        {
          "output_type": "execute_result",
          "data": {
            "text/plain": [
              "<Figure size 878.4x324 with 0 Axes>"
            ]
          },
          "metadata": {
            "tags": []
          },
          "execution_count": 12
        },
        {
          "output_type": "display_data",
          "data": {
            "text/plain": [
              "<Figure size 878.4x324 with 0 Axes>"
            ]
          },
          "metadata": {
            "tags": []
          }
        }
      ]
    },
    {
      "cell_type": "code",
      "metadata": {
        "id": "n26MmAWtIc29",
        "colab_type": "code",
        "outputId": "216d72c1-a5d4-4710-bb71-5117f4821124",
        "colab": {
          "base_uri": "https://localhost:8080/",
          "height": 301
        }
      },
      "source": [
        "# Loop through each stock and plot the Adj Close for each day\n",
        "for c in my_stocks.columns.values:\n",
        "  plt.plot( my_stocks[c],  label=c)#plt.plot( X-Axis , Y-Axis, line_width, alpha_for_blending,  label)\n",
        "plt.title(title)\n",
        "plt.xlabel('Date',fontsize=18)\n",
        "plt.ylabel('Adj. Price USD ($)',fontsize=18)\n",
        "plt.legend(my_stocks.columns.values, loc='upper left')\n",
        "plt.show()"
      ],
      "execution_count": 13,
      "outputs": [
        {
          "output_type": "display_data",
          "data": {
            "image/png": "[encoded data removed]",
            "text/plain": [
              "<Figure size 432x288 with 1 Axes>"
            ]
          },
          "metadata": {
            "tags": [],
            "needs_background": "light"
          }
        }
      ]
    },
    {
      "cell_type": "code",
      "metadata": {
        "id": "-StSKiSnIejk",
        "colab_type": "code",
        "outputId": "53510dc3-25d3-448a-919f-d9937177a5c0",
        "colab": {
          "base_uri": "https://localhost:8080/",
          "height": 603
        }
      },
      "source": [
        "#Show the daily simple returns, NOTE: Formula = new_price/old_price - 1\n",
        "returns = df.pct_change()\n",
        "returns"
      ],
      "execution_count": 14,
      "outputs": [
        {
          "output_type": "execute_result",
          "data": {
            "text/html": [
              "<div>\n",
              "<style scoped>\n",
              "    .dataframe tbody tr th:only-of-type {\n",
              "        vertical-align: middle;\n",
              "    }\n",
              "\n",
              "    .dataframe tbody tr th {\n",
              "        vertical-align: top;\n",
              "    }\n",
              "\n",
              "    .dataframe thead th {\n",
              "        text-align: right;\n",
              "    }\n",
              "</style>\n",
              "<table border=\"1\" class=\"dataframe\">\n",
              "  <thead>\n",
              "    <tr style=\"text-align: right;\">\n",
              "      <th></th>\n",
              "      <th>HICOX</th>\n",
              "      <th>DBSCX</th>\n",
              "      <th>TMF</th>\n",
              "      <th>SHOP</th>\n",
              "      <th>IOFIX</th>\n",
              "      <th>MSFT</th>\n",
              "      <th>AMZN</th>\n",
              "      <th>VSCFX</th>\n",
              "      <th>NVDA</th>\n",
              "      <th>AMD</th>\n",
              "      <th>TSLA</th>\n",
              "      <th>LMT</th>\n",
              "      <th>BA</th>\n",
              "      <th>RTN</th>\n",
              "      <th>PGHY</th>\n",
              "      <th>LMBS</th>\n",
              "    </tr>\n",
              "    <tr>\n",
              "      <th>Date</th>\n",
              "      <th></th>\n",
              "      <th></th>\n",
              "      <th></th>\n",
              "      <th></th>\n",
              "      <th></th>\n",
              "      <th></th>\n",
              "      <th></th>\n",
              "      <th></th>\n",
              "      <th></th>\n",
              "      <th></th>\n",
              "      <th></th>\n",
              "      <th></th>\n",
              "      <th></th>\n",
              "      <th></th>\n",
              "      <th></th>\n",
              "      <th></th>\n",
              "    </tr>\n",
              "  </thead>\n",
              "  <tbody>\n",
              "    <tr>\n",
              "      <th>2013-01-02</th>\n",
              "      <td>NaN</td>\n",
              "      <td>NaN</td>\n",
              "      <td>NaN</td>\n",
              "      <td>NaN</td>\n",
              "      <td>NaN</td>\n",
              "      <td>NaN</td>\n",
              "      <td>NaN</td>\n",
              "      <td>NaN</td>\n",
              "      <td>NaN</td>\n",
              "      <td>NaN</td>\n",
              "      <td>NaN</td>\n",
              "      <td>NaN</td>\n",
              "      <td>NaN</td>\n",
              "      <td>NaN</td>\n",
              "      <td>NaN</td>\n",
              "      <td>NaN</td>\n",
              "    </tr>\n",
              "    <tr>\n",
              "      <th>2013-01-03</th>\n",
              "      <td>0.000000</td>\n",
              "      <td>NaN</td>\n",
              "      <td>-0.040580</td>\n",
              "      <td>NaN</td>\n",
              "      <td>NaN</td>\n",
              "      <td>-0.013396</td>\n",
              "      <td>0.004547</td>\n",
              "      <td>NaN</td>\n",
              "      <td>0.000786</td>\n",
              "      <td>-0.015810</td>\n",
              "      <td>-0.016686</td>\n",
              "      <td>0.003002</td>\n",
              "      <td>0.005190</td>\n",
              "      <td>0.000341</td>\n",
              "      <td>NaN</td>\n",
              "      <td>NaN</td>\n",
              "    </tr>\n",
              "    <tr>\n",
              "      <th>2013-01-04</th>\n",
              "      <td>0.000000</td>\n",
              "      <td>NaN</td>\n",
              "      <td>0.008912</td>\n",
              "      <td>NaN</td>\n",
              "      <td>NaN</td>\n",
              "      <td>-0.018716</td>\n",
              "      <td>0.002592</td>\n",
              "      <td>NaN</td>\n",
              "      <td>0.032993</td>\n",
              "      <td>0.040161</td>\n",
              "      <td>-0.010641</td>\n",
              "      <td>0.003741</td>\n",
              "      <td>0.002840</td>\n",
              "      <td>0.006309</td>\n",
              "      <td>NaN</td>\n",
              "      <td>NaN</td>\n",
              "    </tr>\n",
              "    <tr>\n",
              "      <th>2013-01-07</th>\n",
              "      <td>0.000000</td>\n",
              "      <td>NaN</td>\n",
              "      <td>0.003294</td>\n",
              "      <td>NaN</td>\n",
              "      <td>NaN</td>\n",
              "      <td>-0.001870</td>\n",
              "      <td>0.035925</td>\n",
              "      <td>NaN</td>\n",
              "      <td>-0.028897</td>\n",
              "      <td>0.030888</td>\n",
              "      <td>-0.001744</td>\n",
              "      <td>0.003407</td>\n",
              "      <td>-0.020080</td>\n",
              "      <td>-0.011184</td>\n",
              "      <td>NaN</td>\n",
              "      <td>NaN</td>\n",
              "    </tr>\n",
              "    <tr>\n",
              "      <th>2013-01-08</th>\n",
              "      <td>0.001084</td>\n",
              "      <td>NaN</td>\n",
              "      <td>0.018654</td>\n",
              "      <td>NaN</td>\n",
              "      <td>NaN</td>\n",
              "      <td>-0.005246</td>\n",
              "      <td>-0.007748</td>\n",
              "      <td>NaN</td>\n",
              "      <td>-0.021927</td>\n",
              "      <td>0.000000</td>\n",
              "      <td>-0.019220</td>\n",
              "      <td>-0.013373</td>\n",
              "      <td>-0.026271</td>\n",
              "      <td>-0.010454</td>\n",
              "      <td>NaN</td>\n",
              "      <td>NaN</td>\n",
              "    </tr>\n",
              "    <tr>\n",
              "      <th>...</th>\n",
              "      <td>...</td>\n",
              "      <td>...</td>\n",
              "      <td>...</td>\n",
              "      <td>...</td>\n",
              "      <td>...</td>\n",
              "      <td>...</td>\n",
              "      <td>...</td>\n",
              "      <td>...</td>\n",
              "      <td>...</td>\n",
              "      <td>...</td>\n",
              "      <td>...</td>\n",
              "      <td>...</td>\n",
              "      <td>...</td>\n",
              "      <td>...</td>\n",
              "      <td>...</td>\n",
              "      <td>...</td>\n",
              "    </tr>\n",
              "    <tr>\n",
              "      <th>2020-05-07</th>\n",
              "      <td>0.000000</td>\n",
              "      <td>0.001269</td>\n",
              "      <td>0.049644</td>\n",
              "      <td>-0.014682</td>\n",
              "      <td>0.002252</td>\n",
              "      <td>0.005807</td>\n",
              "      <td>0.006954</td>\n",
              "      <td>0.002260</td>\n",
              "      <td>0.023775</td>\n",
              "      <td>-0.004026</td>\n",
              "      <td>-0.003246</td>\n",
              "      <td>-0.005388</td>\n",
              "      <td>0.055720</td>\n",
              "      <td>0.000000</td>\n",
              "      <td>0.011765</td>\n",
              "      <td>0.000000</td>\n",
              "    </tr>\n",
              "    <tr>\n",
              "      <th>2020-05-08</th>\n",
              "      <td>0.001129</td>\n",
              "      <td>0.002535</td>\n",
              "      <td>-0.037930</td>\n",
              "      <td>-0.019080</td>\n",
              "      <td>0.005618</td>\n",
              "      <td>0.005882</td>\n",
              "      <td>0.005068</td>\n",
              "      <td>0.001127</td>\n",
              "      <td>0.025027</td>\n",
              "      <td>0.023869</td>\n",
              "      <td>0.050485</td>\n",
              "      <td>0.004940</td>\n",
              "      <td>0.037233</td>\n",
              "      <td>0.000000</td>\n",
              "      <td>0.000969</td>\n",
              "      <td>0.000193</td>\n",
              "    </tr>\n",
              "    <tr>\n",
              "      <th>2020-05-11</th>\n",
              "      <td>0.000000</td>\n",
              "      <td>0.000000</td>\n",
              "      <td>-0.024824</td>\n",
              "      <td>0.058352</td>\n",
              "      <td>0.001117</td>\n",
              "      <td>0.011154</td>\n",
              "      <td>0.012351</td>\n",
              "      <td>0.001126</td>\n",
              "      <td>0.032384</td>\n",
              "      <td>0.047941</td>\n",
              "      <td>-0.009922</td>\n",
              "      <td>-0.004863</td>\n",
              "      <td>-0.033948</td>\n",
              "      <td>0.000000</td>\n",
              "      <td>-0.016941</td>\n",
              "      <td>-0.001160</td>\n",
              "    </tr>\n",
              "    <tr>\n",
              "      <th>2020-05-12</th>\n",
              "      <td>0.000000</td>\n",
              "      <td>0.001264</td>\n",
              "      <td>0.030447</td>\n",
              "      <td>-0.010742</td>\n",
              "      <td>0.003348</td>\n",
              "      <td>-0.022652</td>\n",
              "      <td>-0.021606</td>\n",
              "      <td>0.001125</td>\n",
              "      <td>-0.032608</td>\n",
              "      <td>-0.035522</td>\n",
              "      <td>-0.002317</td>\n",
              "      <td>-0.014473</td>\n",
              "      <td>-0.028625</td>\n",
              "      <td>0.000000</td>\n",
              "      <td>0.015263</td>\n",
              "      <td>-0.000387</td>\n",
              "    </tr>\n",
              "    <tr>\n",
              "      <th>2020-05-13</th>\n",
              "      <td>0.001127</td>\n",
              "      <td>0.001263</td>\n",
              "      <td>0.019617</td>\n",
              "      <td>0.016301</td>\n",
              "      <td>0.000000</td>\n",
              "      <td>-0.015122</td>\n",
              "      <td>0.004654</td>\n",
              "      <td>0.001124</td>\n",
              "      <td>-0.002884</td>\n",
              "      <td>-0.029390</td>\n",
              "      <td>-0.022794</td>\n",
              "      <td>-0.018674</td>\n",
              "      <td>-0.029708</td>\n",
              "      <td>0.000000</td>\n",
              "      <td>-0.012124</td>\n",
              "      <td>0.001162</td>\n",
              "    </tr>\n",
              "  </tbody>\n",
              "</table>\n",
              "<p>1854 rows × 16 columns</p>\n",
              "</div>"
            ],
            "text/plain": [
              "               HICOX     DBSCX       TMF  ...       RTN      PGHY      LMBS\n",
              "Date                                      ...                              \n",
              "2013-01-02       NaN       NaN       NaN  ...       NaN       NaN       NaN\n",
              "2013-01-03  0.000000       NaN -0.040580  ...  0.000341       NaN       NaN\n",
              "2013-01-04  0.000000       NaN  0.008912  ...  0.006309       NaN       NaN\n",
              "2013-01-07  0.000000       NaN  0.003294  ... -0.011184       NaN       NaN\n",
              "2013-01-08  0.001084       NaN  0.018654  ... -0.010454       NaN       NaN\n",
              "...              ...       ...       ...  ...       ...       ...       ...\n",
              "2020-05-07  0.000000  0.001269  0.049644  ...  0.000000  0.011765  0.000000\n",
              "2020-05-08  0.001129  0.002535 -0.037930  ...  0.000000  0.000969  0.000193\n",
              "2020-05-11  0.000000  0.000000 -0.024824  ...  0.000000 -0.016941 -0.001160\n",
              "2020-05-12  0.000000  0.001264  0.030447  ...  0.000000  0.015263 -0.000387\n",
              "2020-05-13  0.001127  0.001263  0.019617  ...  0.000000 -0.012124  0.001162\n",
              "\n",
              "[1854 rows x 16 columns]"
            ]
          },
          "metadata": {
            "tags": []
          },
          "execution_count": 14
        }
      ]
    },
    {
      "cell_type": "code",
      "metadata": {
        "id": "51EQVzgAIo5E",
        "colab_type": "code",
        "outputId": "5749fe95-c701-4c9b-ad74-5ddd98bbcdd7",
        "colab": {
          "base_uri": "https://localhost:8080/",
          "height": 547
        }
      },
      "source": [
        "cov_matrix_annual = returns.cov() * 252\n",
        "cov_matrix_annual"
      ],
      "execution_count": 15,
      "outputs": [
        {
          "output_type": "execute_result",
          "data": {
            "text/html": [
              "<div>\n",
              "<style scoped>\n",
              "    .dataframe tbody tr th:only-of-type {\n",
              "        vertical-align: middle;\n",
              "    }\n",
              "\n",
              "    .dataframe tbody tr th {\n",
              "        vertical-align: top;\n",
              "    }\n",
              "\n",
              "    .dataframe thead th {\n",
              "        text-align: right;\n",
              "    }\n",
              "</style>\n",
              "<table border=\"1\" class=\"dataframe\">\n",
              "  <thead>\n",
              "    <tr style=\"text-align: right;\">\n",
              "      <th></th>\n",
              "      <th>HICOX</th>\n",
              "      <th>DBSCX</th>\n",
              "      <th>TMF</th>\n",
              "      <th>SHOP</th>\n",
              "      <th>IOFIX</th>\n",
              "      <th>MSFT</th>\n",
              "      <th>AMZN</th>\n",
              "      <th>VSCFX</th>\n",
              "      <th>NVDA</th>\n",
              "      <th>AMD</th>\n",
              "      <th>TSLA</th>\n",
              "      <th>LMT</th>\n",
              "      <th>BA</th>\n",
              "      <th>RTN</th>\n",
              "      <th>PGHY</th>\n",
              "      <th>LMBS</th>\n",
              "    </tr>\n",
              "  </thead>\n",
              "  <tbody>\n",
              "    <tr>\n",
              "      <th>HICOX</th>\n",
              "      <td>0.000529</td>\n",
              "      <td>0.000225</td>\n",
              "      <td>0.000992</td>\n",
              "      <td>0.001289</td>\n",
              "      <td>0.001079</td>\n",
              "      <td>0.000612</td>\n",
              "      <td>0.000087</td>\n",
              "      <td>0.000333</td>\n",
              "      <td>0.000712</td>\n",
              "      <td>0.000507</td>\n",
              "      <td>0.000399</td>\n",
              "      <td>0.000865</td>\n",
              "      <td>0.001987</td>\n",
              "      <td>0.000705</td>\n",
              "      <td>0.000281</td>\n",
              "      <td>0.000113</td>\n",
              "    </tr>\n",
              "    <tr>\n",
              "      <th>DBSCX</th>\n",
              "      <td>0.000225</td>\n",
              "      <td>0.000848</td>\n",
              "      <td>0.000668</td>\n",
              "      <td>-0.001008</td>\n",
              "      <td>0.002361</td>\n",
              "      <td>-0.000113</td>\n",
              "      <td>-0.000091</td>\n",
              "      <td>0.000940</td>\n",
              "      <td>-0.000650</td>\n",
              "      <td>-0.000711</td>\n",
              "      <td>-0.001559</td>\n",
              "      <td>0.000187</td>\n",
              "      <td>-0.000810</td>\n",
              "      <td>-0.001174</td>\n",
              "      <td>0.000018</td>\n",
              "      <td>0.000095</td>\n",
              "    </tr>\n",
              "    <tr>\n",
              "      <th>TMF</th>\n",
              "      <td>0.000992</td>\n",
              "      <td>0.000668</td>\n",
              "      <td>0.162844</td>\n",
              "      <td>-0.027302</td>\n",
              "      <td>-0.011109</td>\n",
              "      <td>-0.027077</td>\n",
              "      <td>-0.023246</td>\n",
              "      <td>0.004547</td>\n",
              "      <td>-0.036796</td>\n",
              "      <td>-0.040978</td>\n",
              "      <td>-0.029653</td>\n",
              "      <td>-0.024227</td>\n",
              "      <td>-0.023962</td>\n",
              "      <td>-0.014780</td>\n",
              "      <td>0.002113</td>\n",
              "      <td>0.002726</td>\n",
              "    </tr>\n",
              "    <tr>\n",
              "      <th>SHOP</th>\n",
              "      <td>0.001289</td>\n",
              "      <td>-0.001008</td>\n",
              "      <td>-0.027302</td>\n",
              "      <td>0.335569</td>\n",
              "      <td>-0.002186</td>\n",
              "      <td>0.069712</td>\n",
              "      <td>0.074285</td>\n",
              "      <td>-0.001192</td>\n",
              "      <td>0.099480</td>\n",
              "      <td>0.116685</td>\n",
              "      <td>0.093698</td>\n",
              "      <td>0.035401</td>\n",
              "      <td>0.071256</td>\n",
              "      <td>0.042565</td>\n",
              "      <td>0.007131</td>\n",
              "      <td>-0.000352</td>\n",
              "    </tr>\n",
              "    <tr>\n",
              "      <th>IOFIX</th>\n",
              "      <td>0.001079</td>\n",
              "      <td>0.002361</td>\n",
              "      <td>-0.011109</td>\n",
              "      <td>-0.002186</td>\n",
              "      <td>0.014857</td>\n",
              "      <td>0.002807</td>\n",
              "      <td>0.000205</td>\n",
              "      <td>0.003315</td>\n",
              "      <td>0.000658</td>\n",
              "      <td>-0.000238</td>\n",
              "      <td>-0.002018</td>\n",
              "      <td>0.005616</td>\n",
              "      <td>-0.000220</td>\n",
              "      <td>0.000003</td>\n",
              "      <td>-0.000651</td>\n",
              "      <td>0.000849</td>\n",
              "    </tr>\n",
              "    <tr>\n",
              "      <th>MSFT</th>\n",
              "      <td>0.000612</td>\n",
              "      <td>-0.000113</td>\n",
              "      <td>-0.027077</td>\n",
              "      <td>0.069712</td>\n",
              "      <td>0.002807</td>\n",
              "      <td>0.068710</td>\n",
              "      <td>0.042913</td>\n",
              "      <td>-0.000939</td>\n",
              "      <td>0.056719</td>\n",
              "      <td>0.051333</td>\n",
              "      <td>0.045275</td>\n",
              "      <td>0.026215</td>\n",
              "      <td>0.039547</td>\n",
              "      <td>0.026804</td>\n",
              "      <td>0.003985</td>\n",
              "      <td>-0.000575</td>\n",
              "    </tr>\n",
              "    <tr>\n",
              "      <th>AMZN</th>\n",
              "      <td>0.000087</td>\n",
              "      <td>-0.000091</td>\n",
              "      <td>-0.023246</td>\n",
              "      <td>0.074285</td>\n",
              "      <td>0.000205</td>\n",
              "      <td>0.042913</td>\n",
              "      <td>0.092082</td>\n",
              "      <td>-0.000598</td>\n",
              "      <td>0.051917</td>\n",
              "      <td>0.053770</td>\n",
              "      <td>0.051268</td>\n",
              "      <td>0.019429</td>\n",
              "      <td>0.031611</td>\n",
              "      <td>0.019166</td>\n",
              "      <td>0.003244</td>\n",
              "      <td>-0.000875</td>\n",
              "    </tr>\n",
              "    <tr>\n",
              "      <th>VSCFX</th>\n",
              "      <td>0.000333</td>\n",
              "      <td>0.000940</td>\n",
              "      <td>0.004547</td>\n",
              "      <td>-0.001192</td>\n",
              "      <td>0.003315</td>\n",
              "      <td>-0.000939</td>\n",
              "      <td>-0.000598</td>\n",
              "      <td>0.001860</td>\n",
              "      <td>-0.001713</td>\n",
              "      <td>-0.001544</td>\n",
              "      <td>-0.002848</td>\n",
              "      <td>-0.000237</td>\n",
              "      <td>-0.002209</td>\n",
              "      <td>-0.002132</td>\n",
              "      <td>-0.000027</td>\n",
              "      <td>0.000335</td>\n",
              "    </tr>\n",
              "    <tr>\n",
              "      <th>NVDA</th>\n",
              "      <td>0.000712</td>\n",
              "      <td>-0.000650</td>\n",
              "      <td>-0.036796</td>\n",
              "      <td>0.099480</td>\n",
              "      <td>0.000658</td>\n",
              "      <td>0.056719</td>\n",
              "      <td>0.051917</td>\n",
              "      <td>-0.001713</td>\n",
              "      <td>0.168853</td>\n",
              "      <td>0.115916</td>\n",
              "      <td>0.065499</td>\n",
              "      <td>0.031528</td>\n",
              "      <td>0.052356</td>\n",
              "      <td>0.034276</td>\n",
              "      <td>0.004611</td>\n",
              "      <td>-0.001086</td>\n",
              "    </tr>\n",
              "    <tr>\n",
              "      <th>AMD</th>\n",
              "      <td>0.000507</td>\n",
              "      <td>-0.000711</td>\n",
              "      <td>-0.040978</td>\n",
              "      <td>0.116685</td>\n",
              "      <td>-0.000238</td>\n",
              "      <td>0.051333</td>\n",
              "      <td>0.053770</td>\n",
              "      <td>-0.001544</td>\n",
              "      <td>0.115916</td>\n",
              "      <td>0.364314</td>\n",
              "      <td>0.078044</td>\n",
              "      <td>0.029776</td>\n",
              "      <td>0.053085</td>\n",
              "      <td>0.031425</td>\n",
              "      <td>0.004936</td>\n",
              "      <td>-0.000914</td>\n",
              "    </tr>\n",
              "    <tr>\n",
              "      <th>TSLA</th>\n",
              "      <td>0.000399</td>\n",
              "      <td>-0.001559</td>\n",
              "      <td>-0.029653</td>\n",
              "      <td>0.093698</td>\n",
              "      <td>-0.002018</td>\n",
              "      <td>0.045275</td>\n",
              "      <td>0.051268</td>\n",
              "      <td>-0.002848</td>\n",
              "      <td>0.065499</td>\n",
              "      <td>0.078044</td>\n",
              "      <td>0.292004</td>\n",
              "      <td>0.018628</td>\n",
              "      <td>0.049453</td>\n",
              "      <td>0.033219</td>\n",
              "      <td>0.006915</td>\n",
              "      <td>-0.000955</td>\n",
              "    </tr>\n",
              "    <tr>\n",
              "      <th>LMT</th>\n",
              "      <td>0.000865</td>\n",
              "      <td>0.000187</td>\n",
              "      <td>-0.024227</td>\n",
              "      <td>0.035401</td>\n",
              "      <td>0.005616</td>\n",
              "      <td>0.026215</td>\n",
              "      <td>0.019429</td>\n",
              "      <td>-0.000237</td>\n",
              "      <td>0.031528</td>\n",
              "      <td>0.029776</td>\n",
              "      <td>0.018628</td>\n",
              "      <td>0.045803</td>\n",
              "      <td>0.040167</td>\n",
              "      <td>0.032630</td>\n",
              "      <td>0.001626</td>\n",
              "      <td>0.000076</td>\n",
              "    </tr>\n",
              "    <tr>\n",
              "      <th>BA</th>\n",
              "      <td>0.001987</td>\n",
              "      <td>-0.000810</td>\n",
              "      <td>-0.023962</td>\n",
              "      <td>0.071256</td>\n",
              "      <td>-0.000220</td>\n",
              "      <td>0.039547</td>\n",
              "      <td>0.031611</td>\n",
              "      <td>-0.002209</td>\n",
              "      <td>0.052356</td>\n",
              "      <td>0.053085</td>\n",
              "      <td>0.049453</td>\n",
              "      <td>0.040167</td>\n",
              "      <td>0.120778</td>\n",
              "      <td>0.046024</td>\n",
              "      <td>0.009494</td>\n",
              "      <td>-0.000207</td>\n",
              "    </tr>\n",
              "    <tr>\n",
              "      <th>RTN</th>\n",
              "      <td>0.000705</td>\n",
              "      <td>-0.001174</td>\n",
              "      <td>-0.014780</td>\n",
              "      <td>0.042565</td>\n",
              "      <td>0.000003</td>\n",
              "      <td>0.026804</td>\n",
              "      <td>0.019166</td>\n",
              "      <td>-0.002132</td>\n",
              "      <td>0.034276</td>\n",
              "      <td>0.031425</td>\n",
              "      <td>0.033219</td>\n",
              "      <td>0.032630</td>\n",
              "      <td>0.046024</td>\n",
              "      <td>0.053777</td>\n",
              "      <td>0.005823</td>\n",
              "      <td>0.000065</td>\n",
              "    </tr>\n",
              "    <tr>\n",
              "      <th>PGHY</th>\n",
              "      <td>0.000281</td>\n",
              "      <td>0.000018</td>\n",
              "      <td>0.002113</td>\n",
              "      <td>0.007131</td>\n",
              "      <td>-0.000651</td>\n",
              "      <td>0.003985</td>\n",
              "      <td>0.003244</td>\n",
              "      <td>-0.000027</td>\n",
              "      <td>0.004611</td>\n",
              "      <td>0.004936</td>\n",
              "      <td>0.006915</td>\n",
              "      <td>0.001626</td>\n",
              "      <td>0.009494</td>\n",
              "      <td>0.005823</td>\n",
              "      <td>0.006359</td>\n",
              "      <td>0.000092</td>\n",
              "    </tr>\n",
              "    <tr>\n",
              "      <th>LMBS</th>\n",
              "      <td>0.000113</td>\n",
              "      <td>0.000095</td>\n",
              "      <td>0.002726</td>\n",
              "      <td>-0.000352</td>\n",
              "      <td>0.000849</td>\n",
              "      <td>-0.000575</td>\n",
              "      <td>-0.000875</td>\n",
              "      <td>0.000335</td>\n",
              "      <td>-0.001086</td>\n",
              "      <td>-0.000914</td>\n",
              "      <td>-0.000955</td>\n",
              "      <td>0.000076</td>\n",
              "      <td>-0.000207</td>\n",
              "      <td>0.000065</td>\n",
              "      <td>0.000092</td>\n",
              "      <td>0.000856</td>\n",
              "    </tr>\n",
              "  </tbody>\n",
              "</table>\n",
              "</div>"
            ],
            "text/plain": [
              "          HICOX     DBSCX       TMF  ...       RTN      PGHY      LMBS\n",
              "HICOX  0.000529  0.000225  0.000992  ...  0.000705  0.000281  0.000113\n",
              "DBSCX  0.000225  0.000848  0.000668  ... -0.001174  0.000018  0.000095\n",
              "TMF    0.000992  0.000668  0.162844  ... -0.014780  0.002113  0.002726\n",
              "SHOP   0.001289 -0.001008 -0.027302  ...  0.042565  0.007131 -0.000352\n",
              "IOFIX  0.001079  0.002361 -0.011109  ...  0.000003 -0.000651  0.000849\n",
              "MSFT   0.000612 -0.000113 -0.027077  ...  0.026804  0.003985 -0.000575\n",
              "AMZN   0.000087 -0.000091 -0.023246  ...  0.019166  0.003244 -0.000875\n",
              "VSCFX  0.000333  0.000940  0.004547  ... -0.002132 -0.000027  0.000335\n",
              "NVDA   0.000712 -0.000650 -0.036796  ...  0.034276  0.004611 -0.001086\n",
              "AMD    0.000507 -0.000711 -0.040978  ...  0.031425  0.004936 -0.000914\n",
              "TSLA   0.000399 -0.001559 -0.029653  ...  0.033219  0.006915 -0.000955\n",
              "LMT    0.000865  0.000187 -0.024227  ...  0.032630  0.001626  0.000076\n",
              "BA     0.001987 -0.000810 -0.023962  ...  0.046024  0.009494 -0.000207\n",
              "RTN    0.000705 -0.001174 -0.014780  ...  0.053777  0.005823  0.000065\n",
              "PGHY   0.000281  0.000018  0.002113  ...  0.005823  0.006359  0.000092\n",
              "LMBS   0.000113  0.000095  0.002726  ...  0.000065  0.000092  0.000856\n",
              "\n",
              "[16 rows x 16 columns]"
            ]
          },
          "metadata": {
            "tags": []
          },
          "execution_count": 15
        }
      ]
    },
    {
      "cell_type": "code",
      "metadata": {
        "id": "fxh4jFcBIvPF",
        "colab_type": "code",
        "outputId": "4c488abd-87a9-4cc9-ef87-be7ef9f6e2e0",
        "colab": {
          "base_uri": "https://localhost:8080/",
          "height": 34
        }
      },
      "source": [
        "port_variance = np.dot(weights.T, np.dot(cov_matrix_annual, weights))\n",
        "port_variance"
      ],
      "execution_count": 16,
      "outputs": [
        {
          "output_type": "execute_result",
          "data": {
            "text/plain": [
              "0.019474716389937724"
            ]
          },
          "metadata": {
            "tags": []
          },
          "execution_count": 16
        }
      ]
    },
    {
      "cell_type": "code",
      "metadata": {
        "id": "T1B8XvE_IxA-",
        "colab_type": "code",
        "outputId": "9b7216fc-0d5c-4220-93de-2049381c4537",
        "colab": {
          "base_uri": "https://localhost:8080/",
          "height": 34
        }
      },
      "source": [
        "port_volatility = np.sqrt(port_variance)\n",
        "port_volatility"
      ],
      "execution_count": 17,
      "outputs": [
        {
          "output_type": "execute_result",
          "data": {
            "text/plain": [
              "0.1395518412273293"
            ]
          },
          "metadata": {
            "tags": []
          },
          "execution_count": 17
        }
      ]
    },
    {
      "cell_type": "code",
      "metadata": {
        "id": "WAC7Xf2DIzf5",
        "colab_type": "code",
        "outputId": "b5f65edd-1cac-4d7a-f7b8-7c91e32841f2",
        "colab": {
          "base_uri": "https://localhost:8080/",
          "height": 34
        }
      },
      "source": [
        "portfolioSimpleAnnualReturn = np.sum(returns.mean()*weights) * 252\n",
        "portfolioSimpleAnnualReturn"
      ],
      "execution_count": 18,
      "outputs": [
        {
          "output_type": "execute_result",
          "data": {
            "text/plain": [
              "0.2634623513591081"
            ]
          },
          "metadata": {
            "tags": []
          },
          "execution_count": 18
        }
      ]
    },
    {
      "cell_type": "code",
      "metadata": {
        "id": "VTbmT4yrI1X9",
        "colab_type": "code",
        "outputId": "52e7bb74-e466-463a-da1c-8dff8cc4b34d",
        "colab": {
          "base_uri": "https://localhost:8080/",
          "height": 70
        }
      },
      "source": [
        "percent_var = str(round(port_variance, 2) * 100) + '%'\n",
        "percent_vols = str(round(port_volatility, 2) * 100) + '%'\n",
        "percent_ret = str(round(portfolioSimpleAnnualReturn, 2)*100)+'%'\n",
        "print(\"Expected annual return : \"+ percent_ret)\n",
        "print('Annual volatility/standard deviation/risk : '+percent_vols)\n",
        "print('Annual variance : '+percent_var)"
      ],
      "execution_count": 19,
      "outputs": [
        {
          "output_type": "stream",
          "text": [
            "Expected annual return : 26.0%\n",
            "Annual volatility/standard deviation/risk : 14.000000000000002%\n",
            "Annual variance : 2.0%\n"
          ],
          "name": "stdout"
        }
      ]
    },
    {
      "cell_type": "code",
      "metadata": {
        "id": "kyrJYLHxI5Fz",
        "colab_type": "code",
        "outputId": "ba66602f-a0d7-4009-bfeb-e044d635e5a8",
        "colab": {
          "base_uri": "https://localhost:8080/",
          "height": 552
        }
      },
      "source": [
        "pip install PyPortfolioOpt"
      ],
      "execution_count": 20,
      "outputs": [
        {
          "output_type": "stream",
          "text": [
            "Collecting PyPortfolioOpt\n",
            "\u001b[?25l  Downloading https://files.pythonhosted.org/packages/a9/ec/6a74a210ab1971f2bd5e22bac235d722ee1e47e6f0fb0cc20863c5ee5f14/PyPortfolioOpt-1.2.1-py3-none-any.whl (49kB)\n",
            "\r\u001b[K     |██████▊                         | 10kB 16.4MB/s eta 0:00:01\r\u001b[K     |█████████████▍                  | 20kB 3.1MB/s eta 0:00:01\r\u001b[K     |████████████████████            | 30kB 3.4MB/s eta 0:00:01\r\u001b[K     |██████████████████████████▊     | 40kB 3.7MB/s eta 0:00:01\r\u001b[K     |████████████████████████████████| 51kB 2.4MB/s \n",
            "\u001b[?25hRequirement already satisfied: scipy in /usr/local/lib/python3.6/dist-packages (from PyPortfolioOpt) (1.4.1)\n",
            "Requirement already satisfied: cvxpy<2.0.0,>=1.0.28 in /usr/local/lib/python3.6/dist-packages (from PyPortfolioOpt) (1.0.31)\n",
            "Requirement already satisfied: numpy in /usr/local/lib/python3.6/dist-packages (from PyPortfolioOpt) (1.18.4)\n",
            "Collecting pandas<0.26.0,>=0.25.3\n",
            "\u001b[?25l  Downloading https://files.pythonhosted.org/packages/52/3f/f6a428599e0d4497e1595030965b5ba455fd8ade6e977e3c819973c4b41d/pandas-0.25.3-cp36-cp36m-manylinux1_x86_64.whl (10.4MB)\n",
            "\u001b[K     |████████████████████████████████| 10.4MB 6.0MB/s \n",
            "\u001b[?25hRequirement already satisfied: ecos>=2 in /usr/local/lib/python3.6/dist-packages (from cvxpy<2.0.0,>=1.0.28->PyPortfolioOpt) (2.0.7.post1)\n",
            "Requirement already satisfied: osqp>=0.4.1 in /usr/local/lib/python3.6/dist-packages (from cvxpy<2.0.0,>=1.0.28->PyPortfolioOpt) (0.6.1)\n",
            "Requirement already satisfied: scs>=1.1.3 in /usr/local/lib/python3.6/dist-packages (from cvxpy<2.0.0,>=1.0.28->PyPortfolioOpt) (2.1.2)\n",
            "Requirement already satisfied: multiprocess in /usr/local/lib/python3.6/dist-packages (from cvxpy<2.0.0,>=1.0.28->PyPortfolioOpt) (0.70.9)\n",
            "Requirement already satisfied: pytz>=2017.2 in /usr/local/lib/python3.6/dist-packages (from pandas<0.26.0,>=0.25.3->PyPortfolioOpt) (2018.9)\n",
            "Requirement already satisfied: python-dateutil>=2.6.1 in /usr/local/lib/python3.6/dist-packages (from pandas<0.26.0,>=0.25.3->PyPortfolioOpt) (2.8.1)\n",
            "Requirement already satisfied: future in /usr/local/lib/python3.6/dist-packages (from osqp>=0.4.1->cvxpy<2.0.0,>=1.0.28->PyPortfolioOpt) (0.16.0)\n",
            "Requirement already satisfied: dill>=0.3.1 in /usr/local/lib/python3.6/dist-packages (from multiprocess->cvxpy<2.0.0,>=1.0.28->PyPortfolioOpt) (0.3.1.1)\n",
            "Requirement already satisfied: six>=1.5 in /usr/local/lib/python3.6/dist-packages (from python-dateutil>=2.6.1->pandas<0.26.0,>=0.25.3->PyPortfolioOpt) (1.12.0)\n",
            "\u001b[31mERROR: google-colab 1.0.0 has requirement pandas~=1.0.0; python_version >= \"3.0\", but you'll have pandas 0.25.3 which is incompatible.\u001b[0m\n",
            "Installing collected packages: pandas, PyPortfolioOpt\n",
            "  Found existing installation: pandas 1.0.3\n",
            "    Uninstalling pandas-1.0.3:\n",
            "      Successfully uninstalled pandas-1.0.3\n",
            "Successfully installed PyPortfolioOpt-1.2.1 pandas-0.25.3\n"
          ],
          "name": "stdout"
        },
        {
          "output_type": "display_data",
          "data": {
            "application/vnd.colab-display-data+json": {
              "pip_warning": {
                "packages": [
                  "pandas"
                ]
              }
            }
          },
          "metadata": {
            "tags": []
          }
        }
      ]
    },
    {
      "cell_type": "code",
      "metadata": {
        "id": "Q1AevTgUI65d",
        "colab_type": "code",
        "colab": {}
      },
      "source": [
        "from pypfopt.efficient_frontier import EfficientFrontier\n",
        "from pypfopt import risk_models\n",
        "from pypfopt import expected_returns"
      ],
      "execution_count": 0,
      "outputs": []
    },
    {
      "cell_type": "code",
      "metadata": {
        "id": "-zEeLq9-I8-2",
        "colab_type": "code",
        "colab": {}
      },
      "source": [
        "mu = expected_returns.mean_historical_return(df)#returns.mean() * 252\n",
        "S = risk_models.sample_cov(df) #Get the sample covariance matrix"
      ],
      "execution_count": 0,
      "outputs": []
    },
    {
      "cell_type": "code",
      "metadata": {
        "id": "Xt9OfHd4I_bg",
        "colab_type": "code",
        "outputId": "7237e7a8-8c00-484e-9c49-e93690581e01",
        "colab": {
          "base_uri": "https://localhost:8080/",
          "height": 125
        }
      },
      "source": [
        "ef = EfficientFrontier(mu, S)\n",
        "weights = ef.max_sharpe() #Maximize the Sharpe ratio, and get the raw weights\n",
        "cleaned_weights = ef.clean_weights() \n",
        "print(cleaned_weights) #Note the weights may have some rounding error, meaning they may not add up exactly to 1 but should be close\n",
        "ef.portfolio_performance(verbose=True)"
      ],
      "execution_count": 23,
      "outputs": [
        {
          "output_type": "stream",
          "text": [
            "{'HICOX': 0.28766, 'DBSCX': 0.3578, 'TMF': 0.04232, 'SHOP': 0.0325, 'IOFIX': 0.0, 'MSFT': 0.0, 'AMZN': 0.01745, 'VSCFX': 0.0, 'NVDA': 0.02344, 'AMD': 0.00764, 'TSLA': 0.01926, 'LMT': 0.04722, 'BA': 0.0, 'RTN': 0.0, 'PGHY': 0.0, 'LMBS': 0.16472}\n",
            "Expected annual return: 11.4%\n",
            "Annual volatility: 4.3%\n",
            "Sharpe Ratio: 2.20\n"
          ],
          "name": "stdout"
        },
        {
          "output_type": "execute_result",
          "data": {
            "text/plain": [
              "(0.11440481928808738, 0.042988920491483965, 2.196026748491831)"
            ]
          },
          "metadata": {
            "tags": []
          },
          "execution_count": 23
        }
      ]
    },
    {
      "cell_type": "code",
      "metadata": {
        "id": "kE0XxP0PJC9W",
        "colab_type": "code",
        "outputId": "48ac4541-b350-4c2f-e164-b010cdb1f17a",
        "colab": {
          "base_uri": "https://localhost:8080/",
          "height": 143
        }
      },
      "source": [
        "pip install pulp"
      ],
      "execution_count": 24,
      "outputs": [
        {
          "output_type": "stream",
          "text": [
            "Collecting pulp\n",
            "\u001b[?25l  Downloading https://files.pythonhosted.org/packages/41/34/757c88c320f80ce602199603afe63aed1e0bc11180b9a9fb6018fb2ce7ef/PuLP-2.1-py3-none-any.whl (40.6MB)\n",
            "\u001b[K     |████████████████████████████████| 40.6MB 109kB/s \n",
            "\u001b[?25hRequirement already satisfied: pyparsing>=2.0.1 in /usr/local/lib/python3.6/dist-packages (from pulp) (2.4.7)\n",
            "Installing collected packages: pulp\n",
            "Successfully installed pulp-2.1\n"
          ],
          "name": "stdout"
        }
      ]
    },
    {
      "cell_type": "code",
      "metadata": {
        "id": "HTLsTvd0JFDq",
        "colab_type": "code",
        "outputId": "6e7788f5-1402-455e-8c8d-4b48ded1a1a5",
        "colab": {
          "base_uri": "https://localhost:8080/",
          "height": 72
        }
      },
      "source": [
        "from pypfopt.discrete_allocation import DiscreteAllocation, get_latest_prices\n",
        "latest_prices = get_latest_prices(df)\n",
        "weights = cleaned_weights \n",
        "da = DiscreteAllocation(weights, latest_prices, total_portfolio_value=37786)\n",
        "allocation, leftover = da.lp_portfolio()\n",
        "print(\"Discrete allocation:\", allocation)\n",
        "print(\"Funds remaining: ${:.2f}\".format(leftover))"
      ],
      "execution_count": 25,
      "outputs": [
        {
          "output_type": "stream",
          "text": [
            "Discrete allocation: {'HICOX': 1225.0, 'DBSCX': 1705.0, 'TMF': 38.0, 'SHOP': 2.0, 'NVDA': 3.0, 'AMD': 6.0, 'TSLA': 1.0, 'LMT': 5.0, 'PGHY': 8.0, 'LMBS': 121.0}\n",
            "Funds remaining: $2.80\n"
          ],
          "name": "stdout"
        }
      ]
    },
    {
      "cell_type": "code",
      "metadata": {
        "id": "sIOyxMjyJf9H",
        "colab_type": "code",
        "colab": {}
      },
      "source": [
        ""
      ],
      "execution_count": 0,
      "outputs": []
    }
  ]
}